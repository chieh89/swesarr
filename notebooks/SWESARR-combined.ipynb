{
 "cells": [
  {
   "cell_type": "markdown",
   "id": "bfcb0ff2-667a-47e2-a12b-d1bd2cfe31ba",
   "metadata": {},
   "source": [
    "# SWESARR Hackweek Project 2024\n",
    "\n",
    "Group Members: Michelle, Evi, Nani, Dylan, Megan, Kehan, Mike, Elodie"
   ]
  },
  {
   "cell_type": "code",
   "execution_count": 6,
   "id": "a08d5fb6-2dfc-45d4-bb53-d12b869f86c0",
   "metadata": {},
   "outputs": [],
   "source": [
    "import pandas as pd"
   ]
  },
  {
   "cell_type": "markdown",
   "id": "45661af8-00da-4642-818b-993363d0caf3",
   "metadata": {},
   "source": [
    "# 1. Introduction"
   ]
  },
  {
   "cell_type": "markdown",
   "id": "c98ad033-485a-45ab-a519-20c5376284df",
   "metadata": {},
   "source": [
    "# 2. Goals\n",
    "\n",
    "* Retrieve SWE from SWESARR\n",
    "* Gain experience with radar data\n",
    "* Compare radar measurements wuth everything!\n",
    "* Better understand the SWESARR radar measurements at Grand Mesa"
   ]
  },
  {
   "cell_type": "markdown",
   "id": "ae8286f7-e60d-4ff6-9ee7-4dadc0a55e26",
   "metadata": {},
   "source": [
    "# 3. Algorithm and Methods\n",
    "\n",
    "Evi and Mike"
   ]
  },
  {
   "cell_type": "markdown",
   "id": "5652d43d-97a7-4ec1-b44d-7c406882482c",
   "metadata": {},
   "source": [
    "# 4. Data\n",
    "\n",
    "1. Radar\n",
    "2. In situ\n",
    "   * **Snowpit** (Evi)\n",
    "   * Autumn soil conditions (Megan)\n",
    "   * Microstructure: **SSA** (Evi), CT (microstructure group), and SMP (Megan)\n",
    "   * Photos (Megan)\n",
    "3. Meteorology (Michelle)\n",
    "4. Spatial\n",
    "   * Lidar (Evi & Nani)\n",
    "   * Sentinel (Kehan)\n",
    "   * GPR SWE (Kehan)\n",
    "   * ASO SWE (Kehan)\n",
    "   * Land cover (Kehan)\n"
   ]
  },
  {
   "cell_type": "code",
   "execution_count": 24,
   "id": "82b8c88c-5f84-4afa-b9ae-41d32174019d",
   "metadata": {},
   "outputs": [
    {
     "data": {
      "text/html": [
       "<div>\n",
       "<style scoped>\n",
       "    .dataframe tbody tr th:only-of-type {\n",
       "        vertical-align: middle;\n",
       "    }\n",
       "\n",
       "    .dataframe tbody tr th {\n",
       "        vertical-align: top;\n",
       "    }\n",
       "\n",
       "    .dataframe thead th {\n",
       "        text-align: right;\n",
       "    }\n",
       "</style>\n",
       "<table border=\"1\" class=\"dataframe\">\n",
       "  <thead>\n",
       "    <tr style=\"text-align: right;\">\n",
       "      <th></th>\n",
       "      <th>date</th>\n",
       "      <th>flights</th>\n",
       "    </tr>\n",
       "  </thead>\n",
       "  <tbody>\n",
       "    <tr>\n",
       "      <th>0</th>\n",
       "      <td>2019-11-04</td>\n",
       "      <td>2</td>\n",
       "    </tr>\n",
       "    <tr>\n",
       "      <th>1</th>\n",
       "      <td>2019-11-05</td>\n",
       "      <td>3</td>\n",
       "    </tr>\n",
       "    <tr>\n",
       "      <th>2</th>\n",
       "      <td>2019-11-06</td>\n",
       "      <td>3</td>\n",
       "    </tr>\n",
       "    <tr>\n",
       "      <th>3</th>\n",
       "      <td>2020-02-11</td>\n",
       "      <td>3</td>\n",
       "    </tr>\n",
       "    <tr>\n",
       "      <th>4</th>\n",
       "      <td>2020-02-12</td>\n",
       "      <td>2</td>\n",
       "    </tr>\n",
       "  </tbody>\n",
       "</table>\n",
       "</div>"
      ],
      "text/plain": [
       "         date  flights\n",
       "0  2019-11-04        2\n",
       "1  2019-11-05        3\n",
       "2  2019-11-06        3\n",
       "3  2020-02-11        3\n",
       "4  2020-02-12        2"
      ]
     },
     "execution_count": 24,
     "metadata": {},
     "output_type": "execute_result"
    }
   ],
   "source": [
    "# Timeline of SWESARR flights (Dylan & Mike)\n",
    "# there are three days with flights in November, and two days with flights in February. Each day has two or three flights. Total flights is 13.\n",
    "days=['2019-11-04','2019-11-05','2019-11-06','2020-02-11','2020-02-12']\n",
    "nflights=[2,3,3,3,2]\n",
    "dftimes=pd.DataFrame(data={'date':days,'flights':nflights})\n",
    "dftimes"
   ]
  },
  {
   "cell_type": "markdown",
   "id": "7e6d9881-293a-4324-8ac7-09a15bcb0825",
   "metadata": {},
   "source": [
    "# 5. Data exploration and comparison\n",
    "\n",
    "This will evolve organic\n",
    "\n",
    "1. Spatial and temporal radar patterns (Nani)\n",
    "2. Timeseries of met data and soil moisture (Michelle)\n",
    "3. Snow depth patterns from Lidar (Nani and Evi)"
   ]
  },
  {
   "cell_type": "markdown",
   "id": "9042cdb8-9038-43d3-b78e-d5802c7bd8ee",
   "metadata": {},
   "source": [
    "# 6. Pulling algorithm inputs\n",
    "\n",
    "* Radar (Dylan)\n",
    "* Other (Dylan)"
   ]
  },
  {
   "cell_type": "markdown",
   "id": "98c3a35c-a3c5-4994-a620-1191a8497904",
   "metadata": {},
   "source": [
    "# 7. Running algorithm\n",
    "* Run! (Dylan)"
   ]
  },
  {
   "cell_type": "markdown",
   "id": "1027c28a-5e3c-4fdb-b9aa-64db9f7b6200",
   "metadata": {},
   "source": [
    "# 8. Plotting algorithm output\n",
    "\n",
    "Elodie & Mike"
   ]
  },
  {
   "cell_type": "markdown",
   "id": "36ea16ff-2843-4b33-96c8-4738ff1f6def",
   "metadata": {},
   "source": [
    "# 9. TBD what that means"
   ]
  },
  {
   "cell_type": "markdown",
   "id": "f8d31e81-da82-4657-861e-7e6b7c230a0e",
   "metadata": {},
   "source": [
    "# 10. Fin! What did we learn"
   ]
  },
  {
   "cell_type": "code",
   "execution_count": null,
   "id": "396ecd2c-0134-4af4-befd-198595d05534",
   "metadata": {},
   "outputs": [],
   "source": []
  }
 ],
 "metadata": {
  "kernelspec": {
   "display_name": "Python 3 (ipykernel)",
   "language": "python",
   "name": "python3"
  },
  "language_info": {
   "codemirror_mode": {
    "name": "ipython",
    "version": 3
   },
   "file_extension": ".py",
   "mimetype": "text/x-python",
   "name": "python",
   "nbconvert_exporter": "python",
   "pygments_lexer": "ipython3",
   "version": "3.11.9"
  }
 },
 "nbformat": 4,
 "nbformat_minor": 5
}
