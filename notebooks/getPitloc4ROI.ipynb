{
 "cells": [
  {
   "cell_type": "code",
   "execution_count": 1,
   "id": "8e1a04cb-f182-441b-b77a-29b7792dbfe7",
   "metadata": {},
   "outputs": [],
   "source": [
    "from snowexsql.api import LayerMeasurements\n",
    "import geopandas as gpd\n",
    "import numpy as np"
   ]
  },
  {
   "cell_type": "code",
   "execution_count": 2,
   "id": "5c83fff0-f890-4bcc-884c-2882a413f245",
   "metadata": {},
   "outputs": [
    {
     "data": {
      "text/plain": [
       "0    POLYGON ((741035.608 4323122.77, 742806.873 43...\n",
       "Name: geometry, dtype: geometry"
      ]
     },
     "execution_count": 2,
     "metadata": {},
     "output_type": "execute_result"
    }
   ],
   "source": [
    "df2 = gpd.read_file(\"swesarr-roi.shp\")\n",
    "df2.crs\n",
    "gdf = df2.to_crs(26912)\n",
    "gdf.geometry"
   ]
  },
  {
   "cell_type": "code",
   "execution_count": 3,
   "id": "ec39ea28-965b-4ed3-b761-96e88efffd83",
   "metadata": {},
   "outputs": [],
   "source": [
    "s=LayerMeasurements.from_area(shp=gdf.geometry[0], type='density', site_name='Grand Mesa')"
   ]
  },
  {
   "cell_type": "code",
   "execution_count": 5,
   "id": "fef5b13a-a00d-4ee7-90e2-7acbdce8be6d",
   "metadata": {},
   "outputs": [],
   "source": [
    "gd=s['geom'].unique()"
   ]
  },
  {
   "cell_type": "code",
   "execution_count": 7,
   "id": "24d24715-c7c8-494a-9654-b656f2ddfc8c",
   "metadata": {
    "collapsed": true,
    "jupyter": {
     "outputs_hidden": true
    }
   },
   "outputs": [
    {
     "data": {
      "text/html": [
       "<div style=\"width:100%;\"><div style=\"position:relative;width:100%;height:0;padding-bottom:60%;\"><span style=\"color:#565656\">Make this Notebook Trusted to load map: File -> Trust Notebook</span><iframe srcdoc=\"&lt;!DOCTYPE html&gt;\n",
       "&lt;html&gt;\n",
       "&lt;head&gt;\n",
       "    \n",
       "    &lt;meta http-equiv=&quot;content-type&quot; content=&quot;text/html; charset=UTF-8&quot; /&gt;\n",
       "    \n",
       "        &lt;script&gt;\n",
       "            L_NO_TOUCH = false;\n",
       "            L_DISABLE_3D = false;\n",
       "        &lt;/script&gt;\n",
       "    \n",
       "    &lt;style&gt;html, body {width: 100%;height: 100%;margin: 0;padding: 0;}&lt;/style&gt;\n",
       "    &lt;style&gt;#map {position:absolute;top:0;bottom:0;right:0;left:0;}&lt;/style&gt;\n",
       "    &lt;script src=&quot;https://cdn.jsdelivr.net/npm/leaflet@1.9.3/dist/leaflet.js&quot;&gt;&lt;/script&gt;\n",
       "    &lt;script src=&quot;https://code.jquery.com/jquery-3.7.1.min.js&quot;&gt;&lt;/script&gt;\n",
       "    &lt;script src=&quot;https://cdn.jsdelivr.net/npm/bootstrap@5.2.2/dist/js/bootstrap.bundle.min.js&quot;&gt;&lt;/script&gt;\n",
       "    &lt;script src=&quot;https://cdnjs.cloudflare.com/ajax/libs/Leaflet.awesome-markers/2.0.2/leaflet.awesome-markers.js&quot;&gt;&lt;/script&gt;\n",
       "    &lt;link rel=&quot;stylesheet&quot; href=&quot;https://cdn.jsdelivr.net/npm/leaflet@1.9.3/dist/leaflet.css&quot;/&gt;\n",
       "    &lt;link rel=&quot;stylesheet&quot; href=&quot;https://cdn.jsdelivr.net/npm/bootstrap@5.2.2/dist/css/bootstrap.min.css&quot;/&gt;\n",
       "    &lt;link rel=&quot;stylesheet&quot; href=&quot;https://netdna.bootstrapcdn.com/bootstrap/3.0.0/css/bootstrap-glyphicons.css&quot;/&gt;\n",
       "    &lt;link rel=&quot;stylesheet&quot; href=&quot;https://cdn.jsdelivr.net/npm/@fortawesome/fontawesome-free@6.2.0/css/all.min.css&quot;/&gt;\n",
       "    &lt;link rel=&quot;stylesheet&quot; href=&quot;https://cdnjs.cloudflare.com/ajax/libs/Leaflet.awesome-markers/2.0.2/leaflet.awesome-markers.css&quot;/&gt;\n",
       "    &lt;link rel=&quot;stylesheet&quot; href=&quot;https://cdn.jsdelivr.net/gh/python-visualization/folium/folium/templates/leaflet.awesome.rotate.min.css&quot;/&gt;\n",
       "    \n",
       "            &lt;meta name=&quot;viewport&quot; content=&quot;width=device-width,\n",
       "                initial-scale=1.0, maximum-scale=1.0, user-scalable=no&quot; /&gt;\n",
       "            &lt;style&gt;\n",
       "                #map_075281393b569c757846a44168e37b1c {\n",
       "                    position: relative;\n",
       "                    width: 100.0%;\n",
       "                    height: 100.0%;\n",
       "                    left: 0.0%;\n",
       "                    top: 0.0%;\n",
       "                }\n",
       "                .leaflet-container { font-size: 1rem; }\n",
       "            &lt;/style&gt;\n",
       "        \n",
       "    \n",
       "                    &lt;style&gt;\n",
       "                        .foliumtooltip {\n",
       "                            \n",
       "                        }\n",
       "                       .foliumtooltip table{\n",
       "                            margin: auto;\n",
       "                        }\n",
       "                        .foliumtooltip tr{\n",
       "                            text-align: left;\n",
       "                        }\n",
       "                        .foliumtooltip th{\n",
       "                            padding: 2px; padding-right: 8px;\n",
       "                        }\n",
       "                    &lt;/style&gt;\n",
       "            \n",
       "&lt;/head&gt;\n",
       "&lt;body&gt;\n",
       "    \n",
       "    \n",
       "            &lt;div class=&quot;folium-map&quot; id=&quot;map_075281393b569c757846a44168e37b1c&quot; &gt;&lt;/div&gt;\n",
       "        \n",
       "&lt;/body&gt;\n",
       "&lt;script&gt;\n",
       "    \n",
       "    \n",
       "            var map_075281393b569c757846a44168e37b1c = L.map(\n",
       "                &quot;map_075281393b569c757846a44168e37b1c&quot;,\n",
       "                {\n",
       "                    center: [39.01992429635442, -108.20162420332022],\n",
       "                    crs: L.CRS.EPSG3857,\n",
       "                    zoom: 10,\n",
       "                    zoomControl: true,\n",
       "                    preferCanvas: false,\n",
       "                }\n",
       "            );\n",
       "            L.control.scale().addTo(map_075281393b569c757846a44168e37b1c);\n",
       "\n",
       "            \n",
       "\n",
       "        \n",
       "    \n",
       "            var tile_layer_005830dec235df7fd27c769cb6edca98 = L.tileLayer(\n",
       "                &quot;https://tile.openstreetmap.org/{z}/{x}/{y}.png&quot;,\n",
       "                {&quot;attribution&quot;: &quot;\\u0026copy; \\u003ca href=\\&quot;https://www.openstreetmap.org/copyright\\&quot;\\u003eOpenStreetMap\\u003c/a\\u003e contributors&quot;, &quot;detectRetina&quot;: false, &quot;maxNativeZoom&quot;: 19, &quot;maxZoom&quot;: 19, &quot;minZoom&quot;: 0, &quot;noWrap&quot;: false, &quot;opacity&quot;: 1, &quot;subdomains&quot;: &quot;abc&quot;, &quot;tms&quot;: false}\n",
       "            );\n",
       "        \n",
       "    \n",
       "            tile_layer_005830dec235df7fd27c769cb6edca98.addTo(map_075281393b569c757846a44168e37b1c);\n",
       "        \n",
       "    \n",
       "            map_075281393b569c757846a44168e37b1c.fitBounds(\n",
       "                [[39.01795401263496, -108.20560031081487], [39.02189458007387, -108.19764809582556]],\n",
       "                {}\n",
       "            );\n",
       "        \n",
       "    \n",
       "        function geo_json_f6bb6d08db8ef2d1e88a1e9621f61fd3_styler(feature) {\n",
       "            switch(feature.id) {\n",
       "                default:\n",
       "                    return {&quot;fillOpacity&quot;: 0.5, &quot;weight&quot;: 2};\n",
       "            }\n",
       "        }\n",
       "        function geo_json_f6bb6d08db8ef2d1e88a1e9621f61fd3_highlighter(feature) {\n",
       "            switch(feature.id) {\n",
       "                default:\n",
       "                    return {&quot;fillOpacity&quot;: 0.75};\n",
       "            }\n",
       "        }\n",
       "        function geo_json_f6bb6d08db8ef2d1e88a1e9621f61fd3_pointToLayer(feature, latlng) {\n",
       "            var opts = {&quot;bubblingMouseEvents&quot;: true, &quot;color&quot;: &quot;#3388ff&quot;, &quot;dashArray&quot;: null, &quot;dashOffset&quot;: null, &quot;fill&quot;: true, &quot;fillColor&quot;: &quot;#3388ff&quot;, &quot;fillOpacity&quot;: 0.2, &quot;fillRule&quot;: &quot;evenodd&quot;, &quot;lineCap&quot;: &quot;round&quot;, &quot;lineJoin&quot;: &quot;round&quot;, &quot;opacity&quot;: 1.0, &quot;radius&quot;: 2, &quot;stroke&quot;: true, &quot;weight&quot;: 3};\n",
       "            \n",
       "            let style = geo_json_f6bb6d08db8ef2d1e88a1e9621f61fd3_styler(feature)\n",
       "            Object.assign(opts, style)\n",
       "            \n",
       "            return new L.CircleMarker(latlng, opts)\n",
       "        }\n",
       "\n",
       "        function geo_json_f6bb6d08db8ef2d1e88a1e9621f61fd3_onEachFeature(feature, layer) {\n",
       "            layer.on({\n",
       "                mouseout: function(e) {\n",
       "                    if(typeof e.target.setStyle === &quot;function&quot;){\n",
       "                            geo_json_f6bb6d08db8ef2d1e88a1e9621f61fd3.resetStyle(e.target);\n",
       "                    }\n",
       "                },\n",
       "                mouseover: function(e) {\n",
       "                    if(typeof e.target.setStyle === &quot;function&quot;){\n",
       "                        const highlightStyle = geo_json_f6bb6d08db8ef2d1e88a1e9621f61fd3_highlighter(e.target.feature)\n",
       "                        e.target.setStyle(highlightStyle);\n",
       "                    }\n",
       "                },\n",
       "            });\n",
       "        };\n",
       "        var geo_json_f6bb6d08db8ef2d1e88a1e9621f61fd3 = L.geoJson(null, {\n",
       "                onEachFeature: geo_json_f6bb6d08db8ef2d1e88a1e9621f61fd3_onEachFeature,\n",
       "            \n",
       "                style: geo_json_f6bb6d08db8ef2d1e88a1e9621f61fd3_styler,\n",
       "                pointToLayer: geo_json_f6bb6d08db8ef2d1e88a1e9621f61fd3_pointToLayer,\n",
       "        });\n",
       "\n",
       "        function geo_json_f6bb6d08db8ef2d1e88a1e9621f61fd3_add (data) {\n",
       "            geo_json_f6bb6d08db8ef2d1e88a1e9621f61fd3\n",
       "                .addData(data);\n",
       "        }\n",
       "            geo_json_f6bb6d08db8ef2d1e88a1e9621f61fd3_add({&quot;bbox&quot;: [-108.20560031081487, 39.01795401263496, -108.19764809582556, 39.02189458007387], &quot;features&quot;: [{&quot;bbox&quot;: [-108.203397583292, 39.01995048625389, -108.203397583292, 39.01995048625389], &quot;geometry&quot;: {&quot;coordinates&quot;: [-108.203397583292, 39.01995048625389], &quot;type&quot;: &quot;Point&quot;}, &quot;id&quot;: &quot;0&quot;, &quot;properties&quot;: {}, &quot;type&quot;: &quot;Feature&quot;}, {&quot;bbox&quot;: [-108.20289064406134, 39.02109147204387, -108.20289064406134, 39.02109147204387], &quot;geometry&quot;: {&quot;coordinates&quot;: [-108.20289064406134, 39.02109147204387], &quot;type&quot;: &quot;Point&quot;}, &quot;id&quot;: &quot;1&quot;, &quot;properties&quot;: {}, &quot;type&quot;: &quot;Feature&quot;}, {&quot;bbox&quot;: [-108.20129363131218, 39.01795401263496, -108.20129363131218, 39.01795401263496], &quot;geometry&quot;: {&quot;coordinates&quot;: [-108.20129363131218, 39.01795401263496], &quot;type&quot;: &quot;Point&quot;}, &quot;id&quot;: &quot;2&quot;, &quot;properties&quot;: {}, &quot;type&quot;: &quot;Feature&quot;}, {&quot;bbox&quot;: [-108.19764809582556, 39.02165918021531, -108.19764809582556, 39.02165918021531], &quot;geometry&quot;: {&quot;coordinates&quot;: [-108.19764809582556, 39.02165918021531], &quot;type&quot;: &quot;Point&quot;}, &quot;id&quot;: &quot;3&quot;, &quot;properties&quot;: {}, &quot;type&quot;: &quot;Feature&quot;}, {&quot;bbox&quot;: [-108.19769654139128, 39.02189458007387, -108.19769654139128, 39.02189458007387], &quot;geometry&quot;: {&quot;coordinates&quot;: [-108.19769654139128, 39.02189458007387], &quot;type&quot;: &quot;Point&quot;}, &quot;id&quot;: &quot;4&quot;, &quot;properties&quot;: {}, &quot;type&quot;: &quot;Feature&quot;}, {&quot;bbox&quot;: [-108.20560031081487, 39.021201542109964, -108.20560031081487, 39.021201542109964], &quot;geometry&quot;: {&quot;coordinates&quot;: [-108.20560031081487, 39.021201542109964], &quot;type&quot;: &quot;Point&quot;}, &quot;id&quot;: &quot;5&quot;, &quot;properties&quot;: {}, &quot;type&quot;: &quot;Feature&quot;}, {&quot;bbox&quot;: [-108.19778956779251, 39.01866257837794, -108.19778956779251, 39.01866257837794], &quot;geometry&quot;: {&quot;coordinates&quot;: [-108.19778956779251, 39.01866257837794], &quot;type&quot;: &quot;Point&quot;}, &quot;id&quot;: &quot;6&quot;, &quot;properties&quot;: {}, &quot;type&quot;: &quot;Feature&quot;}, {&quot;bbox&quot;: [-108.19862628903893, 39.0191151338736, -108.19862628903893, 39.0191151338736], &quot;geometry&quot;: {&quot;coordinates&quot;: [-108.19862628903893, 39.0191151338736], &quot;type&quot;: &quot;Point&quot;}, &quot;id&quot;: &quot;7&quot;, &quot;properties&quot;: {}, &quot;type&quot;: &quot;Feature&quot;}], &quot;type&quot;: &quot;FeatureCollection&quot;});\n",
       "\n",
       "        \n",
       "    \n",
       "    geo_json_f6bb6d08db8ef2d1e88a1e9621f61fd3.bindTooltip(\n",
       "    function(layer){\n",
       "    let div = L.DomUtil.create(&#x27;div&#x27;);\n",
       "    \n",
       "    return div\n",
       "    }\n",
       "    ,{&quot;className&quot;: &quot;foliumtooltip&quot;, &quot;sticky&quot;: true});\n",
       "                     \n",
       "    \n",
       "            geo_json_f6bb6d08db8ef2d1e88a1e9621f61fd3.addTo(map_075281393b569c757846a44168e37b1c);\n",
       "        \n",
       "&lt;/script&gt;\n",
       "&lt;/html&gt;\" style=\"position:absolute;width:100%;height:100%;left:0;top:0;border:none !important;\" allowfullscreen webkitallowfullscreen mozallowfullscreen></iframe></div></div>"
      ],
      "text/plain": [
       "<folium.folium.Map at 0x7f42c1ef0e10>"
      ]
     },
     "execution_count": 7,
     "metadata": {},
     "output_type": "execute_result"
    }
   ],
   "source": [
    "gpd.GeoDataFrame(geometry=gd).explore()"
   ]
  },
  {
   "cell_type": "code",
   "execution_count": 8,
   "id": "2b85723a-e17f-4b51-aa72-cb667dc588f9",
   "metadata": {},
   "outputs": [],
   "source": [
    "gpdf = gpd.GeoDataFrame(gd, columns = ['location'])"
   ]
  },
  {
   "cell_type": "code",
   "execution_count": 9,
   "id": "14d2dd17-0e51-4456-b593-17445faba1bb",
   "metadata": {},
   "outputs": [],
   "source": [
    "gdf.to_file(\"PitLoc4ROI.shp\")"
   ]
  },
  {
   "cell_type": "code",
   "execution_count": null,
   "id": "a408ec85-661a-463e-9560-b78be4f202af",
   "metadata": {},
   "outputs": [],
   "source": []
  }
 ],
 "metadata": {
  "kernelspec": {
   "display_name": "Python 3 (ipykernel)",
   "language": "python",
   "name": "python3"
  },
  "language_info": {
   "codemirror_mode": {
    "name": "ipython",
    "version": 3
   },
   "file_extension": ".py",
   "mimetype": "text/x-python",
   "name": "python",
   "nbconvert_exporter": "python",
   "pygments_lexer": "ipython3",
   "version": "3.11.9"
  }
 },
 "nbformat": 4,
 "nbformat_minor": 5
}
