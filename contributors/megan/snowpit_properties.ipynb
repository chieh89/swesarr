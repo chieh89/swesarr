{
 "cells": [
  {
   "cell_type": "code",
   "execution_count": null,
   "id": "4b9a0f71-bf13-4526-8a1d-9a1ee8a6a968",
   "metadata": {},
   "outputs": [],
   "source": [
    "# imports \n",
    "from datetime import datetime\n",
    "from pathlib import Path\n",
    "import geopandas as gpd\n",
    "\n",
    "# snowex database imports\n",
    "from snowexsql.api import PointMeasurements, LayerMeasurements"
   ]
  },
  {
   "cell_type": "code",
   "execution_count": null,
   "id": "44968779-5c33-4d81-85ad-4c160bca9245",
   "metadata": {},
   "outputs": [],
   "source": [
    "# filepaths\n",
    "\n",
    "# swesarr box - southwest portion of GM, CO 'S' flight line.\n",
    "radar_roi = Path('~/shared-public/swesarr_project/base-layers/swesarr-roi.shp')\n",
    "radar_shp = gpd.read_file(radar_roi)\n",
    "radar_shp = radar_shp.to_crs(26912) # 26912 is the crs the database is in"
   ]
  },
  {
   "cell_type": "code",
   "execution_count": null,
   "id": "f0ba8a2b-d2b6-4486-a007-984b00747ba5",
   "metadata": {},
   "outputs": [],
   "source": [
    "# # # siteID of intrest: \n",
    "# site_id = [\n",
    "#     '1S1',\n",
    "#     '1S2', \n",
    "#     '2S3',\n",
    "#     '2S4', \n",
    "#     '3S5',\n",
    "#     '2S6',\n",
    "#     '2S7', \n",
    "#     '1S8'\n",
    "# ] "
   ]
  },
  {
   "cell_type": "markdown",
   "id": "bae4ae7b-1aba-489f-878b-d6d8f74b2a14",
   "metadata": {},
   "source": [
    "# density from snow pits"
   ]
  },
  {
   "cell_type": "code",
   "execution_count": null,
   "id": "d494c698-adcf-4963-af39-0bfb3f6dc9b7",
   "metadata": {
    "scrolled": true
   },
   "outputs": [],
   "source": [
    "# query from_area() -- spatial \n",
    "df_den = LayerMeasurements.from_area(shp=radar_shp.geometry[0], type='density')\n",
    "    \n",
    "\n",
    "# # query by type, site_id_list, and temporal (temporal is redunant here)\n",
    "# df_den = LayerMeasurements.from_filter(\n",
    "#     type=\"density\",\n",
    "#     site_id=site_id,\n",
    "#     date_less_equal=datetime(2020, 2, 12),\n",
    "#     date_greater_equal=datetime(2020, 1, 29),\n",
    "# )\n",
    "df_den"
   ]
  },
  {
   "cell_type": "code",
   "execution_count": null,
   "id": "2a73e827-5ed5-4a42-a336-4460259c6637",
   "metadata": {},
   "outputs": [],
   "source": [
    "# clean up dataframe\n",
    "\n",
    "df_den['center'] = df_den[['depth', 'bottom_depth']].mean(axis=1)\n",
    "df_den['value'] = df_den['value'].astype(float) #value is average density\n",
    "df_den.head()"
   ]
  },
  {
   "cell_type": "code",
   "execution_count": null,
   "id": "157623d1-e42f-45d9-ba9c-64e87ed11d41",
   "metadata": {},
   "outputs": [],
   "source": [
    "df_den = df_den.sort_values(by='depth')\n",
    "df_den"
   ]
  },
  {
   "cell_type": "code",
   "execution_count": null,
   "id": "9f404ac4-8cca-46e1-ba86-a8590c066241",
   "metadata": {},
   "outputs": [],
   "source": [
    "# group by\n",
    "# sort by depth"
   ]
  },
  {
   "cell_type": "code",
   "execution_count": null,
   "id": "3448c4d6-2b08-4a39-8195-bff927b82e9e",
   "metadata": {},
   "outputs": [],
   "source": []
  },
  {
   "cell_type": "code",
   "execution_count": null,
   "id": "fd07a456-b833-40a7-94a9-6a9cd95f1681",
   "metadata": {},
   "outputs": [],
   "source": [
    "# spatial query "
   ]
  },
  {
   "cell_type": "code",
   "execution_count": null,
   "id": "e0b8c661-0cfe-47a2-b5a2-1023b995233f",
   "metadata": {},
   "outputs": [],
   "source": []
  }
 ],
 "metadata": {
  "kernelspec": {
   "display_name": "Python 3 (ipykernel)",
   "language": "python",
   "name": "python3"
  },
  "language_info": {
   "codemirror_mode": {
    "name": "ipython",
    "version": 3
   },
   "file_extension": ".py",
   "mimetype": "text/x-python",
   "name": "python",
   "nbconvert_exporter": "python",
   "pygments_lexer": "ipython3",
   "version": "3.11.9"
  }
 },
 "nbformat": 4,
 "nbformat_minor": 5
}
