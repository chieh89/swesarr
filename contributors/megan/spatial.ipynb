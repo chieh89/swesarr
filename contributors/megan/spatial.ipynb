{
 "cells": [
  {
   "cell_type": "code",
   "execution_count": 2,
   "id": "c606b280-cd73-4c23-9863-388a3539cafd",
   "metadata": {},
   "outputs": [],
   "source": [
    "import geopandas as gdp\n",
    "from pathlib import Path"
   ]
  },
  {
   "cell_type": "markdown",
   "id": "c3861439-3710-4c37-9d11-6f5e8009eef6",
   "metadata": {},
   "source": [
    "**Snow Pits**\n",
    "\n",
    "- 1S1\n",
    "- 1S2 \n",
    "- 2S3\n",
    "- 2S4 \n",
    "- 3S5\n",
    "- 2S7 \n",
    "\n",
    "nearby:\n",
    "- 2S6\n",
    "- 1S8 \n",
    "\n",
    "sampled on: \n",
    "* 1/29- 1S1, 2S3, 3S5\n",
    "* 2/01- 1S8\n",
    "* 2/05- 2S4\n",
    "* 2/08- 1S2, 2S7\n",
    "* 2/11- 2S6\n",
    "\n",
    "**Insitu dielectric soil (10 stations)**\n",
    "\n",
    "**COSMOS stationary soil**\n",
    "\n",
    "**COSMOS rover soil**\n",
    "\n"
   ]
  },
  {
   "cell_type": "code",
   "execution_count": null,
   "id": "8d140234-b955-43f7-86ce-c78d1feb5663",
   "metadata": {},
   "outputs": [],
   "source": [
    "Cordinate dictionary "
   ]
  },
  {
   "cell_type": "code",
   "execution_count": null,
   "id": "71939b53-0b66-4342-83af-e4530a85a558",
   "metadata": {},
   "outputs": [],
   "source": [
    "path = '~/shared-public/swesarr_project/base-layers'\n",
    "file = "
   ]
  }
 ],
 "metadata": {
  "kernelspec": {
   "display_name": "Python 3 (ipykernel)",
   "language": "python",
   "name": "python3"
  },
  "language_info": {
   "codemirror_mode": {
    "name": "ipython",
    "version": 3
   },
   "file_extension": ".py",
   "mimetype": "text/x-python",
   "name": "python",
   "nbconvert_exporter": "python",
   "pygments_lexer": "ipython3",
   "version": "3.11.9"
  }
 },
 "nbformat": 4,
 "nbformat_minor": 5
}
