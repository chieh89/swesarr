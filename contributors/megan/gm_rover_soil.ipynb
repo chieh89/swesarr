{
 "cells": [
  {
   "cell_type": "markdown",
   "id": "cef58f2e-2e15-4465-905b-6990f8be21b1",
   "metadata": {},
   "source": [
    "# COSMOS Rover Soil Moisture data for SnowEx 2020\n",
    "---\n",
    "*Megan Mason  \n",
    "NASA GSFC / SSAI  \n",
    "August 2024*  \n"
   ]
  },
  {
   "cell_type": "markdown",
   "id": "89a042d1-d31b-4a95-b775-1ffed0eb51b4",
   "metadata": {},
   "source": [
    "## What are the data?\n",
    "[SnowEx20 COSMOS Rover Soil Moisture, Version 1](https://nsidc.org/data/snex20_crsm/versions/1)\\\n",
    "Lewis, M. G. & Fisher, A. (2021). SnowEx20 COSMOS Rover Soil Moisture, Version 1 [Data Set]. Boulder, Colorado USA. NASA National Snow and Ice Data Center Distributed Active Archive Center. https://doi.org/10.5067/UNXN7V6J7OM0. Date Accessed 08-20-2024\n",
    "\n",
    "**Background**\n",
    "The COsmic-ray Soil Moisture Observing System (COSMOS) measures soil moisture via counting\n",
    "of neutrons. Cosmic rays, i.e., high-energy subatomic particles, originating in outer space generate\n",
    "fast neutrons once they penetrate the atmosphere and interact with atmospheric nuclei. Additional\n",
    "neutrons are generated when the cosmic rays interact with the land surface. The produced fast\n",
    "neutrons collide with other atoms in the air and soil, but only if they collide with H atoms, they lose\n",
    "their kinetic energy efficiently as they are similar in mass. As H atoms in the land surface are\n",
    "mostly present in the form of soil moisture, the fast neutron intensity above the land surface is\n",
    "inversely correlated with soil moisture. For more details on the theoretical basis for measuring soil\n",
    "moisture by fast neutron detection, see Dong et al. (2014).\n",
    "**Acquisition**\n",
    "During the SnowEx 2020 campaign, the COSMOS rover was deployed in an attempt to\n",
    "characterize total moisture in the surface to compare against other sensors. **The COSMOS rover\n",
    "was driven over the flight line region of Grand Mesa but was restricted to roads**. Often a COSMOS\n",
    "Rover campaign consists of vast swaths being covered by the vehicle for regional surfaces or\n",
    "tightly overlapping paths for local disaggregation to high-resolution data surfaces. Unfortunately,\n",
    "the road structure on the mesa did not allow for large swaths of parallel and perpendicular\n",
    "crossover, nor did the land use permit the vehicle to drive over grasslands. Therefore, only the\n",
    "paved and gravel roads on the mesa were captured. The data were not corrected for roads in this\n",
    "data set. Data collected at the mesa escapement showed negative soil moisture due to missing\n",
    "surface and will need further study. Please see Schrön et al. (2017) for more information on road\n",
    "corrections for COSMOS Rover data.\n",
    "\n",
    "_L1.csv = Raw\\\n",
    "_L2.csv = Processed \n",
    "\n",
    "\n",
    "\n",
    "| Parameter          | Description                                                     |\n",
    "|--------------------|-----------------------------------------------------------------|\n",
    "| Date Time (UTC)    | Date time in yyyy-mm-ddThh:mm:ssZ format (e.g. 2019-11-04T16:05:46Z) |\n",
    "| LatDec             | Latitude                                                        |\n",
    "| LongDec            | Longitude                                                       |\n",
    "| SM (mm³/cm³)       | Volumetric soil moisture                                        |\n"
   ]
  },
  {
   "cell_type": "markdown",
   "id": "3afabfe4-47d1-45ee-ae39-456a1c2ecf93",
   "metadata": {},
   "source": [
    "# Get data"
   ]
  },
  {
   "cell_type": "code",
   "execution_count": 1,
   "id": "301fd02a-f489-4e6a-a165-12695f35e71d",
   "metadata": {},
   "outputs": [],
   "source": [
    "# Earthaccess imports\n",
    "import earthaccess"
   ]
  },
  {
   "cell_type": "code",
   "execution_count": 2,
   "id": "b309cd66-8676-419a-ace1-71cac6f6c6b0",
   "metadata": {},
   "outputs": [
    {
     "name": "stdin",
     "output_type": "stream",
     "text": [
      "Enter your Earthdata Login username:  meganmason\n",
      "Enter your Earthdata password:  ········\n"
     ]
    }
   ],
   "source": [
    "# connect to Earthaccess\n",
    "auth = earthaccess.login()"
   ]
  },
  {
   "cell_type": "code",
   "execution_count": 5,
   "id": "1c32d75d-d67d-4e75-85d3-9ce4055ceaab",
   "metadata": {},
   "outputs": [
    {
     "data": {
      "application/vnd.jupyter.widget-view+json": {
       "model_id": "ece36917f4b741a686007668307fee9a",
       "version_major": 2,
       "version_minor": 0
      },
      "text/plain": [
       "QUEUEING TASKS | :   0%|          | 0/8 [00:00<?, ?it/s]"
      ]
     },
     "metadata": {},
     "output_type": "display_data"
    },
    {
     "data": {
      "application/vnd.jupyter.widget-view+json": {
       "model_id": "cee5594c29884621b83af71a5305923c",
       "version_major": 2,
       "version_minor": 0
      },
      "text/plain": [
       "PROCESSING TASKS | :   0%|          | 0/8 [00:00<?, ?it/s]"
      ]
     },
     "metadata": {},
     "output_type": "display_data"
    },
    {
     "data": {
      "application/vnd.jupyter.widget-view+json": {
       "model_id": "9f2a412fe0bc48b9a5c308fca41cfd76",
       "version_major": 2,
       "version_minor": 0
      },
      "text/plain": [
       "COLLECTING RESULTS | :   0%|          | 0/8 [00:00<?, ?it/s]"
      ]
     },
     "metadata": {},
     "output_type": "display_data"
    }
   ],
   "source": [
    "# pull Rover Soil Moisture data\n",
    "results_crsm =earthaccess.search_data(\n",
    "    short_name='SNEX20_CRSM')\n",
    "\n",
    "# downloaded_files_crsm = earthaccess.download(\n",
    "#     results_crsm,\n",
    "#     local_path='/shared-public/swesarr_project/nsidc-pulls/rover_soil',\n",
    "# )"
   ]
  },
  {
   "cell_type": "code",
   "execution_count": null,
   "id": "6bb52b1b-3499-49da-b25f-63fdf73e6fa4",
   "metadata": {},
   "outputs": [],
   "source": []
  }
 ],
 "metadata": {
  "kernelspec": {
   "display_name": "Python 3 (ipykernel)",
   "language": "python",
   "name": "python3"
  },
  "language_info": {
   "codemirror_mode": {
    "name": "ipython",
    "version": 3
   },
   "file_extension": ".py",
   "mimetype": "text/x-python",
   "name": "python",
   "nbconvert_exporter": "python",
   "pygments_lexer": "ipython3",
   "version": "3.11.9"
  }
 },
 "nbformat": 4,
 "nbformat_minor": 5
}
