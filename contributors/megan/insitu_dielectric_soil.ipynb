{
 "cells": [
  {
   "cell_type": "markdown",
   "id": "5c1a7541-cdb4-44c7-8c78-1d0bc02b18bb",
   "metadata": {},
   "source": [
    "# Insitu dielectric soil data for SnowEx 2020\n",
    "---\n",
    "*Megan Mason  \n",
    "NASA GSFC / SSAI  \n",
    "August 2024*  \n"
   ]
  },
  {
   "cell_type": "markdown",
   "id": "c5423483-e2b3-4b92-9a77-913e4d14cba3",
   "metadata": {},
   "source": [
    "## What are the data?\n",
    "[SnowEx20 Grand Mesa In Situ Dielectric Soil Moisture, Version 1](https://nsidc.org/data/snex20_dsm/versions/1)\\\n",
    "Cosh, M. (2021). SnowEx20 Grand Mesa In Situ Dielectric Soil Moisture, Version 1 [Data Set]. Boulder, Colorado USA. NASA National Snow and Ice Data Center Distributed Active Archive Center. https://doi.org/10.5067/FWUZU0FTZKYI. Date Accessed 08-20-2024\n",
    "\n",
    "**Background**\n",
    "This data set consists of soil moisture and soil temperature measurements taken during the\n",
    "SnowEx 2020 field campaign. Stevens Water HydraProbes were deployed at 10 stations within the\n",
    "Colorado Grand Mesa study area.\n",
    "\n",
    "**Acquisition**\n",
    "The Stevens Water HydraProbes were installed at 5 cm, 10 cm, and 20 cm from the top of the soil\n",
    "surface. Actual probe depths varied 3-7 cm (nominal 5 cm probe), 8-12 cm (nominal 10 cm probe),\n",
    "and 18-22 cm (nominal 20 cm probe).\n",
    "Probes were deployed in September 2019. The sites were revisited and data downloaded in\n",
    "November 2019. The next revisit and data retrieval of the stations occurred in June 2020 as a\n",
    "result of COVID-19 restrictions. This resulted in some data loss from November 2019 to January\n",
    "2020 as the datalogger memory cards were full.\n"
   ]
  },
  {
   "cell_type": "markdown",
   "id": "772bf8b9-652b-4901-8e81-233d732e8747",
   "metadata": {},
   "source": [
    "### Temporal Coverage: Sept. 24, 2019 - June 3, 2020\n",
    "### Number of stations: 10 "
   ]
  },
  {
   "cell_type": "markdown",
   "id": "876516b3-0f12-459e-b128-10c9adc1b8a8",
   "metadata": {},
   "source": [
    "| Station number | Site name        | Latitude        | Longitude         |\n",
    "|----------------|------------------|-----------------|-------------------|\n",
    "| 101            | FL3C             | 39.004225º N     | 108.154675º W      |\n",
    "| 102            | FL1A             | 39.02106º N      | 108.210766º W      |\n",
    "| 103            | FL2B             | 39.033281º N     | 108.215172º W      |\n",
    "| 104            | FL2A             | 39.034904º N     | 108.219653º W      |\n",
    "| 105            | FL2C             | 39.032616º N     | 108.199954º W      |\n",
    "| 106            | FL3A             | 39.036317º N     | 108.189587º W      |\n",
    "| 107            | FL2D             | 39.032746º N     | 108.177544º W      |\n",
    "| 108            | FL3B             | 39.024154º N     | 108.175447º W      |\n",
    "| 109            | FL1B             | 39.021914º N     | 108.174772º W      |\n",
    "| 110            | (not named site) | 39.035005º N     | 108.19023º W       |\n",
    "\n",
    "*Data for 101 and 110 ended early, Nov. 5, 2019"
   ]
  },
  {
   "cell_type": "markdown",
   "id": "e9132899-6925-478b-9c33-27ff1b24a100",
   "metadata": {},
   "source": [
    "### Station 102 is closest to ROI"
   ]
  },
  {
   "cell_type": "code",
   "execution_count": null,
   "id": "b7e688c6-339d-4bd5-8901-cdcf73eaa60b",
   "metadata": {},
   "outputs": [],
   "source": []
  }
 ],
 "metadata": {
  "kernelspec": {
   "display_name": "Python 3 (ipykernel)",
   "language": "python",
   "name": "python3"
  },
  "language_info": {
   "codemirror_mode": {
    "name": "ipython",
    "version": 3
   },
   "file_extension": ".py",
   "mimetype": "text/x-python",
   "name": "python",
   "nbconvert_exporter": "python",
   "pygments_lexer": "ipython3",
   "version": "3.11.9"
  }
 },
 "nbformat": 4,
 "nbformat_minor": 5
}
