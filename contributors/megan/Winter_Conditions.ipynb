{
 "cells": [
  {
   "cell_type": "markdown",
   "id": "54d8ddda-3026-47aa-87a9-94df05f02d04",
   "metadata": {},
   "source": [
    "# Winter Conditions Report\n",
    "## SnowEx 2020 Grand Mesa, Colorado\n",
    "\n",
    "#swesarr Hackweek Project\n",
    "---\n",
    "*Megan Mason  \n",
    "NASA GSFC / SSAI  \n",
    "August 2024*  \n"
   ]
  },
  {
   "cell_type": "markdown",
   "id": "701c47da-d285-4687-808e-6c996e7b48ab",
   "metadata": {},
   "source": [
    "### Snow Pit Data "
   ]
  },
  {
   "cell_type": "markdown",
   "id": "8df9748d-e5e2-44c3-b59e-09c4bed57b32",
   "metadata": {},
   "source": [
    "Snow Pit - 2S6 - pitwall\n",
    "![](./content/SnowEx20_SnowPits_GMIOP_20200211_2S6_pit1_v01.jpg)\n",
    "\n",
    "Snow Pit - 2S6 - ground view\n",
    "![](./content/SnowEx20_SnowPits_GMIOP_20200211_2S6_pit2_v01.jpg)\n",
    "\n",
    "Snow Pit -2S6 - facing west, see the wind slabs from the surface!!\n",
    "![](./content/SnowEx20_SnowPits_GMIOP_20200211_2S6_west_v01.jpg)"
   ]
  },
  {
   "cell_type": "markdown",
   "id": "b600d770-4114-44cd-b821-a73d8d575298",
   "metadata": {},
   "source": [
    "Pit density, temperature, and LWC at 8 snow pits in radar ROI (S1-8)\n",
    "![](./content/S20_den_temp_lwc_GMCO-S1-8.jpg)"
   ]
  },
  {
   "cell_type": "markdown",
   "id": "36d062e4-6603-4027-bc0a-0d32b03c987a",
   "metadata": {},
   "source": [
    "<!-- **Density**\n",
    "**Temperature**\n",
    "**LWC** -->"
   ]
  },
  {
   "cell_type": "markdown",
   "id": "e8fcb6c0-490f-45f1-b845-95751dc7431f",
   "metadata": {},
   "source": [
    "![](./content/S20_stratigraphy_GMCO-S1-8.jpg)"
   ]
  },
  {
   "cell_type": "markdown",
   "id": "3b2b179b-2a18-497b-896d-85ae4d6c0de4",
   "metadata": {},
   "source": [
    "**Stratigraphy Summary**\n",
    "\n",
    "<!-- **Grain Size**\n",
    "\n",
    "**Grain Type**\n",
    "\n",
    "**Hardness** -->\n",
    "\n",
    "**Wetness**\n",
    "- all snow pits in ROI have 'D' for Dry at every layer\n",
    "\n",
    "<!-- **Stratigraphy Comments of Note** -->"
   ]
  },
  {
   "cell_type": "markdown",
   "id": "6d2e8d17-3213-49c5-a803-ded67a24805a",
   "metadata": {},
   "source": [
    "### Lidar Snow Depths\n",
    "### Manual Snow Depths\n",
    "### Met data \n",
    "\n",
    "#### insert group work here!)"
   ]
  },
  {
   "cell_type": "code",
   "execution_count": null,
   "id": "9f1295a4-dccd-474a-89a8-c789e1e337ff",
   "metadata": {},
   "outputs": [],
   "source": []
  }
 ],
 "metadata": {
  "kernelspec": {
   "display_name": "Python 3 (ipykernel)",
   "language": "python",
   "name": "python3"
  },
  "language_info": {
   "codemirror_mode": {
    "name": "ipython",
    "version": 3
   },
   "file_extension": ".py",
   "mimetype": "text/x-python",
   "name": "python",
   "nbconvert_exporter": "python",
   "pygments_lexer": "ipython3",
   "version": "3.11.9"
  }
 },
 "nbformat": 4,
 "nbformat_minor": 5
}
