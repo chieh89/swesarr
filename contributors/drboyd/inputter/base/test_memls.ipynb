{
 "cells": [
  {
   "cell_type": "markdown",
   "id": "2c89d9c9-ee67-4aa0-a3c8-cb67201f765c",
   "metadata": {},
   "source": [
    "# Basic MEMLS Interface\n",
    "Showing how to modify the names of input/output files operated by MEMLS. Function automatically prepares a simulation folder."
   ]
  },
  {
   "cell_type": "code",
   "execution_count": null,
   "id": "612289e1-195f-4974-ab35-71a04b7186d0",
   "metadata": {},
   "outputs": [],
   "source": [
    "import os\n",
    "\n",
    "from MetroMEMLS_InputFunctions import main_writer"
   ]
  },
  {
   "cell_type": "code",
   "execution_count": null,
   "id": "1e061060-f160-462e-816a-84b8ab0c0977",
   "metadata": {},
   "outputs": [],
   "source": [
    "# create a test directory\n",
    "my_dir = 'test/'\n",
    "if not os.path.isdir(my_dir):\n",
    "    os.mkdir(my_dir)"
   ]
  },
  {
   "cell_type": "code",
   "execution_count": null,
   "id": "66dade00-b915-45eb-b041-e187145fa942",
   "metadata": {},
   "outputs": [],
   "source": [
    "# manually provide fyle names for each value\n",
    "fn_input     = my_dir + 'FILENAME.txt'\n",
    "fn_RunParams = my_dir + 'RunParams.txt'\n",
    "fn_obs       = my_dir + 'tb_obs.txt'\n",
    "fn_hyper     = my_dir + 'hyperpar.txt'\n",
    "fn_accep     = my_dir + 'acceptance.txt'\n",
    "fn_tbout     = my_dir + 'post_tb.out'\n",
    "fn_thout     = my_dir + 'post_theta.out'"
   ]
  },
  {
   "cell_type": "code",
   "execution_count": null,
   "id": "76abd2d7-a29e-440b-8296-89fc59fe4901",
   "metadata": {},
   "outputs": [],
   "source": [
    "# populate the example input directory\n",
    "main_writer(fn_input=fn_input, fn_RunParams=fn_RunParams, fn_obs=fn_obs, fn_hyper=fn_hyper, fn_accep=fn_accep"
   ]
  },
  {
   "cell_type": "markdown",
   "id": "88550f5f-9333-42b4-939e-71f0cad9f611",
   "metadata": {},
   "source": [
    "# Basic MEMLS For Loop\n",
    "The above processes are shortened over a simple for-loop based on the number of radar observations"
   ]
  },
  {
   "cell_type": "code",
   "execution_count": null,
   "id": "77a3c493-1622-4e25-a2b7-24d18c03a4ca",
   "metadata": {},
   "outputs": [],
   "source": [
    "from MetroMEMLS_InputFunctions import main_obs_looper\n",
    "# loop over 3 radar observations\n",
    "main_obs_looper([-17.5, -15, -12.5])\n"
   ]
  },
  {
   "cell_type": "markdown",
   "id": "3af6318c-7b6f-4be8-abc5-6ffbb2a08eee",
   "metadata": {},
   "source": [
    "Run the simulations in parallel in groups of two. I would recommend doing this in a command line instead of a notebook. Long output!"
   ]
  },
  {
   "cell_type": "code",
   "execution_count": null,
   "id": "1edb6c5a-78d8-4c8e-8285-acec8d80685c",
   "metadata": {},
   "outputs": [],
   "source": [
    "# run MEMLS in serial\n",
    "!./run_them_files_par 2"
   ]
  },
  {
   "cell_type": "markdown",
   "id": "35ffd97f-026c-4d5e-8d6f-357ff33bb915",
   "metadata": {},
   "source": [
    "Delete the simulations if you want. Should probably do this dynamically"
   ]
  },
  {
   "cell_type": "code",
   "execution_count": null,
   "id": "4cdd83f1-fd12-4225-97a4-a69be400f2a1",
   "metadata": {},
   "outputs": [],
   "source": [
    "!rm -rf sim0\n",
    "!rm -rf sim1\n",
    "!rm -rf sim2"
   ]
  }
 ],
 "metadata": {
  "kernelspec": {
   "display_name": "Python 3 (ipykernel)",
   "language": "python",
   "name": "python3"
  },
  "language_info": {
   "codemirror_mode": {
    "name": "ipython",
    "version": 3
   },
   "file_extension": ".py",
   "mimetype": "text/x-python",
   "name": "python",
   "nbconvert_exporter": "python",
   "pygments_lexer": "ipython3",
   "version": "3.11.9"
  }
 },
 "nbformat": 4,
 "nbformat_minor": 5
}
