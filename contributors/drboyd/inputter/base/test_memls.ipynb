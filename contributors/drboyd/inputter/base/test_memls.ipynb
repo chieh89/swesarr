{
 "cells": [
  {
   "cell_type": "code",
   "execution_count": 1,
   "id": "612289e1-195f-4974-ab35-71a04b7186d0",
   "metadata": {},
   "outputs": [],
   "source": [
    "import os\n",
    "\n",
    "from MetroMEMLS_InputFunctions import main_writer"
   ]
  },
  {
   "cell_type": "code",
   "execution_count": 2,
   "id": "1e061060-f160-462e-816a-84b8ab0c0977",
   "metadata": {},
   "outputs": [],
   "source": [
    "my_dir = 'test/'\n",
    "if not os.path.isdir(my_dir):\n",
    "    os.mkdir(my_dir)"
   ]
  },
  {
   "cell_type": "code",
   "execution_count": 3,
   "id": "66dade00-b915-45eb-b041-e187145fa942",
   "metadata": {},
   "outputs": [],
   "source": [
    "fn_input     = my_dir + 'FILENAME.txt'\n",
    "fn_RunParams = my_dir + 'RunParams.txt'\n",
    "fn_obs       = my_dir + 'tb_obs.txt'\n",
    "fn_hyper     = my_dir + 'hyperpar.txt'\n",
    "fn_accep     = my_dir + 'acceptance.txt'\n",
    "fn_tbout     = my_dir + 'post_tb.out'\n",
    "fn_thout     = my_dir + 'post_theta.out'"
   ]
  },
  {
   "cell_type": "code",
   "execution_count": null,
   "id": "76abd2d7-a29e-440b-8296-89fc59fe4901",
   "metadata": {},
   "outputs": [],
   "source": [
    "main_writer(fn_input=fn_input, fn_RunParams=fn_RunParams, fn_obs=fn_obs, fn_hyper=fn_hyper, fn_accep=fn_accep"
   ]
  }
 ],
 "metadata": {
  "kernelspec": {
   "display_name": "Python 3 (ipykernel)",
   "language": "python",
   "name": "python3"
  },
  "language_info": {
   "codemirror_mode": {
    "name": "ipython",
    "version": 3
   },
   "file_extension": ".py",
   "mimetype": "text/x-python",
   "name": "python",
   "nbconvert_exporter": "python",
   "pygments_lexer": "ipython3",
   "version": "3.11.9"
  }
 },
 "nbformat": 4,
 "nbformat_minor": 5
}
